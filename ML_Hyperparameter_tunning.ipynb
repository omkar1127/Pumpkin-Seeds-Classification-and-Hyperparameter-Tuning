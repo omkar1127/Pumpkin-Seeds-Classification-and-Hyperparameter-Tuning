{
  "nbformat": 4,
  "nbformat_minor": 0,
  "metadata": {
    "colab": {
      "provenance": []
    },
    "kernelspec": {
      "name": "python3",
      "display_name": "Python 3"
    },
    "language_info": {
      "name": "python"
    }
  },
  "cells": [
    {
      "cell_type": "markdown",
      "source": [
        "#**Importing the libraries**"
      ],
      "metadata": {
        "id": "31KEdo8PsEpQ"
      }
    },
    {
      "cell_type": "code",
      "execution_count": null,
      "metadata": {
        "id": "OJssnDRCMyvA"
      },
      "outputs": [],
      "source": [
        "import pandas as pd\n",
        "import matplotlib.pyplot as plt\n",
        "import numpy as np"
      ]
    },
    {
      "cell_type": "markdown",
      "source": [
        "#**Importing the Data**"
      ],
      "metadata": {
        "id": "TG2QfIwbsL6R"
      }
    },
    {
      "cell_type": "code",
      "source": [
        "data = pd.read_csv(\"Pumpkin_Seeds_Dataset.csv\")\n",
        "data"
      ],
      "metadata": {
        "id": "pRqFXL1hNHUm",
        "colab": {
          "base_uri": "https://localhost:8080/",
          "height": 423
        },
        "outputId": "2f514e03-8c72-4f9d-87a7-26e69356db16"
      },
      "execution_count": null,
      "outputs": [
        {
          "output_type": "execute_result",
          "data": {
            "text/plain": [
              "       Area  Perimeter  Major_Axis_Length  Minor_Axis_Length  Convex_Area  \\\n",
              "0     56276    888.242           326.1485           220.2388        56831   \n",
              "1     76631   1068.146           417.1932           234.2289        77280   \n",
              "2     71623   1082.987           435.8328           211.0457        72663   \n",
              "3     66458    992.051           381.5638           222.5322        67118   \n",
              "4     66107    998.146           383.8883           220.4545        67117   \n",
              "...     ...        ...                ...                ...          ...   \n",
              "2495  79637   1224.710           533.1513           190.4367        80381   \n",
              "2496  69647   1084.318           462.9416           191.8210        70216   \n",
              "2497  87994   1210.314           507.2200           222.1872        88702   \n",
              "2498  80011   1182.947           501.9065           204.7531        80902   \n",
              "2499  84934   1159.933           462.8951           234.5597        85781   \n",
              "\n",
              "      Equiv_Diameter  Eccentricity  Solidity  Extent  Roundness  \\\n",
              "0           267.6805        0.7376    0.9902  0.7453     0.8963   \n",
              "1           312.3614        0.8275    0.9916  0.7151     0.8440   \n",
              "2           301.9822        0.8749    0.9857  0.7400     0.7674   \n",
              "3           290.8899        0.8123    0.9902  0.7396     0.8486   \n",
              "4           290.1207        0.8187    0.9850  0.6752     0.8338   \n",
              "...              ...           ...       ...     ...        ...   \n",
              "2495        318.4289        0.9340    0.9907  0.4888     0.6672   \n",
              "2496        297.7874        0.9101    0.9919  0.6002     0.7444   \n",
              "2497        334.7199        0.8990    0.9920  0.7643     0.7549   \n",
              "2498        319.1758        0.9130    0.9890  0.7374     0.7185   \n",
              "2499        328.8485        0.8621    0.9901  0.7360     0.7933   \n",
              "\n",
              "      Aspect_Ration  Compactness  Class  \n",
              "0            1.4809       0.8207      0  \n",
              "1            1.7811       0.7487      0  \n",
              "2            2.0651       0.6929      0  \n",
              "3            1.7146       0.7624      0  \n",
              "4            1.7413       0.7557      0  \n",
              "...             ...          ...    ...  \n",
              "2495         2.7996       0.5973      1  \n",
              "2496         2.4134       0.6433      1  \n",
              "2497         2.2828       0.6599      1  \n",
              "2498         2.4513       0.6359      1  \n",
              "2499         1.9735       0.7104      1  \n",
              "\n",
              "[2500 rows x 13 columns]"
            ],
            "text/html": [
              "\n",
              "  <div id=\"df-0c84edf6-0092-48af-b820-7eb159e2b60d\" class=\"colab-df-container\">\n",
              "    <div>\n",
              "<style scoped>\n",
              "    .dataframe tbody tr th:only-of-type {\n",
              "        vertical-align: middle;\n",
              "    }\n",
              "\n",
              "    .dataframe tbody tr th {\n",
              "        vertical-align: top;\n",
              "    }\n",
              "\n",
              "    .dataframe thead th {\n",
              "        text-align: right;\n",
              "    }\n",
              "</style>\n",
              "<table border=\"1\" class=\"dataframe\">\n",
              "  <thead>\n",
              "    <tr style=\"text-align: right;\">\n",
              "      <th></th>\n",
              "      <th>Area</th>\n",
              "      <th>Perimeter</th>\n",
              "      <th>Major_Axis_Length</th>\n",
              "      <th>Minor_Axis_Length</th>\n",
              "      <th>Convex_Area</th>\n",
              "      <th>Equiv_Diameter</th>\n",
              "      <th>Eccentricity</th>\n",
              "      <th>Solidity</th>\n",
              "      <th>Extent</th>\n",
              "      <th>Roundness</th>\n",
              "      <th>Aspect_Ration</th>\n",
              "      <th>Compactness</th>\n",
              "      <th>Class</th>\n",
              "    </tr>\n",
              "  </thead>\n",
              "  <tbody>\n",
              "    <tr>\n",
              "      <th>0</th>\n",
              "      <td>56276</td>\n",
              "      <td>888.242</td>\n",
              "      <td>326.1485</td>\n",
              "      <td>220.2388</td>\n",
              "      <td>56831</td>\n",
              "      <td>267.6805</td>\n",
              "      <td>0.7376</td>\n",
              "      <td>0.9902</td>\n",
              "      <td>0.7453</td>\n",
              "      <td>0.8963</td>\n",
              "      <td>1.4809</td>\n",
              "      <td>0.8207</td>\n",
              "      <td>0</td>\n",
              "    </tr>\n",
              "    <tr>\n",
              "      <th>1</th>\n",
              "      <td>76631</td>\n",
              "      <td>1068.146</td>\n",
              "      <td>417.1932</td>\n",
              "      <td>234.2289</td>\n",
              "      <td>77280</td>\n",
              "      <td>312.3614</td>\n",
              "      <td>0.8275</td>\n",
              "      <td>0.9916</td>\n",
              "      <td>0.7151</td>\n",
              "      <td>0.8440</td>\n",
              "      <td>1.7811</td>\n",
              "      <td>0.7487</td>\n",
              "      <td>0</td>\n",
              "    </tr>\n",
              "    <tr>\n",
              "      <th>2</th>\n",
              "      <td>71623</td>\n",
              "      <td>1082.987</td>\n",
              "      <td>435.8328</td>\n",
              "      <td>211.0457</td>\n",
              "      <td>72663</td>\n",
              "      <td>301.9822</td>\n",
              "      <td>0.8749</td>\n",
              "      <td>0.9857</td>\n",
              "      <td>0.7400</td>\n",
              "      <td>0.7674</td>\n",
              "      <td>2.0651</td>\n",
              "      <td>0.6929</td>\n",
              "      <td>0</td>\n",
              "    </tr>\n",
              "    <tr>\n",
              "      <th>3</th>\n",
              "      <td>66458</td>\n",
              "      <td>992.051</td>\n",
              "      <td>381.5638</td>\n",
              "      <td>222.5322</td>\n",
              "      <td>67118</td>\n",
              "      <td>290.8899</td>\n",
              "      <td>0.8123</td>\n",
              "      <td>0.9902</td>\n",
              "      <td>0.7396</td>\n",
              "      <td>0.8486</td>\n",
              "      <td>1.7146</td>\n",
              "      <td>0.7624</td>\n",
              "      <td>0</td>\n",
              "    </tr>\n",
              "    <tr>\n",
              "      <th>4</th>\n",
              "      <td>66107</td>\n",
              "      <td>998.146</td>\n",
              "      <td>383.8883</td>\n",
              "      <td>220.4545</td>\n",
              "      <td>67117</td>\n",
              "      <td>290.1207</td>\n",
              "      <td>0.8187</td>\n",
              "      <td>0.9850</td>\n",
              "      <td>0.6752</td>\n",
              "      <td>0.8338</td>\n",
              "      <td>1.7413</td>\n",
              "      <td>0.7557</td>\n",
              "      <td>0</td>\n",
              "    </tr>\n",
              "    <tr>\n",
              "      <th>...</th>\n",
              "      <td>...</td>\n",
              "      <td>...</td>\n",
              "      <td>...</td>\n",
              "      <td>...</td>\n",
              "      <td>...</td>\n",
              "      <td>...</td>\n",
              "      <td>...</td>\n",
              "      <td>...</td>\n",
              "      <td>...</td>\n",
              "      <td>...</td>\n",
              "      <td>...</td>\n",
              "      <td>...</td>\n",
              "      <td>...</td>\n",
              "    </tr>\n",
              "    <tr>\n",
              "      <th>2495</th>\n",
              "      <td>79637</td>\n",
              "      <td>1224.710</td>\n",
              "      <td>533.1513</td>\n",
              "      <td>190.4367</td>\n",
              "      <td>80381</td>\n",
              "      <td>318.4289</td>\n",
              "      <td>0.9340</td>\n",
              "      <td>0.9907</td>\n",
              "      <td>0.4888</td>\n",
              "      <td>0.6672</td>\n",
              "      <td>2.7996</td>\n",
              "      <td>0.5973</td>\n",
              "      <td>1</td>\n",
              "    </tr>\n",
              "    <tr>\n",
              "      <th>2496</th>\n",
              "      <td>69647</td>\n",
              "      <td>1084.318</td>\n",
              "      <td>462.9416</td>\n",
              "      <td>191.8210</td>\n",
              "      <td>70216</td>\n",
              "      <td>297.7874</td>\n",
              "      <td>0.9101</td>\n",
              "      <td>0.9919</td>\n",
              "      <td>0.6002</td>\n",
              "      <td>0.7444</td>\n",
              "      <td>2.4134</td>\n",
              "      <td>0.6433</td>\n",
              "      <td>1</td>\n",
              "    </tr>\n",
              "    <tr>\n",
              "      <th>2497</th>\n",
              "      <td>87994</td>\n",
              "      <td>1210.314</td>\n",
              "      <td>507.2200</td>\n",
              "      <td>222.1872</td>\n",
              "      <td>88702</td>\n",
              "      <td>334.7199</td>\n",
              "      <td>0.8990</td>\n",
              "      <td>0.9920</td>\n",
              "      <td>0.7643</td>\n",
              "      <td>0.7549</td>\n",
              "      <td>2.2828</td>\n",
              "      <td>0.6599</td>\n",
              "      <td>1</td>\n",
              "    </tr>\n",
              "    <tr>\n",
              "      <th>2498</th>\n",
              "      <td>80011</td>\n",
              "      <td>1182.947</td>\n",
              "      <td>501.9065</td>\n",
              "      <td>204.7531</td>\n",
              "      <td>80902</td>\n",
              "      <td>319.1758</td>\n",
              "      <td>0.9130</td>\n",
              "      <td>0.9890</td>\n",
              "      <td>0.7374</td>\n",
              "      <td>0.7185</td>\n",
              "      <td>2.4513</td>\n",
              "      <td>0.6359</td>\n",
              "      <td>1</td>\n",
              "    </tr>\n",
              "    <tr>\n",
              "      <th>2499</th>\n",
              "      <td>84934</td>\n",
              "      <td>1159.933</td>\n",
              "      <td>462.8951</td>\n",
              "      <td>234.5597</td>\n",
              "      <td>85781</td>\n",
              "      <td>328.8485</td>\n",
              "      <td>0.8621</td>\n",
              "      <td>0.9901</td>\n",
              "      <td>0.7360</td>\n",
              "      <td>0.7933</td>\n",
              "      <td>1.9735</td>\n",
              "      <td>0.7104</td>\n",
              "      <td>1</td>\n",
              "    </tr>\n",
              "  </tbody>\n",
              "</table>\n",
              "<p>2500 rows × 13 columns</p>\n",
              "</div>\n",
              "    <div class=\"colab-df-buttons\">\n",
              "\n",
              "  <div class=\"colab-df-container\">\n",
              "    <button class=\"colab-df-convert\" onclick=\"convertToInteractive('df-0c84edf6-0092-48af-b820-7eb159e2b60d')\"\n",
              "            title=\"Convert this dataframe to an interactive table.\"\n",
              "            style=\"display:none;\">\n",
              "\n",
              "  <svg xmlns=\"http://www.w3.org/2000/svg\" height=\"24px\" viewBox=\"0 -960 960 960\">\n",
              "    <path d=\"M120-120v-720h720v720H120Zm60-500h600v-160H180v160Zm220 220h160v-160H400v160Zm0 220h160v-160H400v160ZM180-400h160v-160H180v160Zm440 0h160v-160H620v160ZM180-180h160v-160H180v160Zm440 0h160v-160H620v160Z\"/>\n",
              "  </svg>\n",
              "    </button>\n",
              "\n",
              "  <style>\n",
              "    .colab-df-container {\n",
              "      display:flex;\n",
              "      gap: 12px;\n",
              "    }\n",
              "\n",
              "    .colab-df-convert {\n",
              "      background-color: #E8F0FE;\n",
              "      border: none;\n",
              "      border-radius: 50%;\n",
              "      cursor: pointer;\n",
              "      display: none;\n",
              "      fill: #1967D2;\n",
              "      height: 32px;\n",
              "      padding: 0 0 0 0;\n",
              "      width: 32px;\n",
              "    }\n",
              "\n",
              "    .colab-df-convert:hover {\n",
              "      background-color: #E2EBFA;\n",
              "      box-shadow: 0px 1px 2px rgba(60, 64, 67, 0.3), 0px 1px 3px 1px rgba(60, 64, 67, 0.15);\n",
              "      fill: #174EA6;\n",
              "    }\n",
              "\n",
              "    .colab-df-buttons div {\n",
              "      margin-bottom: 4px;\n",
              "    }\n",
              "\n",
              "    [theme=dark] .colab-df-convert {\n",
              "      background-color: #3B4455;\n",
              "      fill: #D2E3FC;\n",
              "    }\n",
              "\n",
              "    [theme=dark] .colab-df-convert:hover {\n",
              "      background-color: #434B5C;\n",
              "      box-shadow: 0px 1px 3px 1px rgba(0, 0, 0, 0.15);\n",
              "      filter: drop-shadow(0px 1px 2px rgba(0, 0, 0, 0.3));\n",
              "      fill: #FFFFFF;\n",
              "    }\n",
              "  </style>\n",
              "\n",
              "    <script>\n",
              "      const buttonEl =\n",
              "        document.querySelector('#df-0c84edf6-0092-48af-b820-7eb159e2b60d button.colab-df-convert');\n",
              "      buttonEl.style.display =\n",
              "        google.colab.kernel.accessAllowed ? 'block' : 'none';\n",
              "\n",
              "      async function convertToInteractive(key) {\n",
              "        const element = document.querySelector('#df-0c84edf6-0092-48af-b820-7eb159e2b60d');\n",
              "        const dataTable =\n",
              "          await google.colab.kernel.invokeFunction('convertToInteractive',\n",
              "                                                    [key], {});\n",
              "        if (!dataTable) return;\n",
              "\n",
              "        const docLinkHtml = 'Like what you see? Visit the ' +\n",
              "          '<a target=\"_blank\" href=https://colab.research.google.com/notebooks/data_table.ipynb>data table notebook</a>'\n",
              "          + ' to learn more about interactive tables.';\n",
              "        element.innerHTML = '';\n",
              "        dataTable['output_type'] = 'display_data';\n",
              "        await google.colab.output.renderOutput(dataTable, element);\n",
              "        const docLink = document.createElement('div');\n",
              "        docLink.innerHTML = docLinkHtml;\n",
              "        element.appendChild(docLink);\n",
              "      }\n",
              "    </script>\n",
              "  </div>\n",
              "\n",
              "\n",
              "<div id=\"df-4c58ad81-f7b6-4beb-8d18-5fd426c936c8\">\n",
              "  <button class=\"colab-df-quickchart\" onclick=\"quickchart('df-4c58ad81-f7b6-4beb-8d18-5fd426c936c8')\"\n",
              "            title=\"Suggest charts.\"\n",
              "            style=\"display:none;\">\n",
              "\n",
              "<svg xmlns=\"http://www.w3.org/2000/svg\" height=\"24px\"viewBox=\"0 0 24 24\"\n",
              "     width=\"24px\">\n",
              "    <g>\n",
              "        <path d=\"M19 3H5c-1.1 0-2 .9-2 2v14c0 1.1.9 2 2 2h14c1.1 0 2-.9 2-2V5c0-1.1-.9-2-2-2zM9 17H7v-7h2v7zm4 0h-2V7h2v10zm4 0h-2v-4h2v4z\"/>\n",
              "    </g>\n",
              "</svg>\n",
              "  </button>\n",
              "\n",
              "<style>\n",
              "  .colab-df-quickchart {\n",
              "      --bg-color: #E8F0FE;\n",
              "      --fill-color: #1967D2;\n",
              "      --hover-bg-color: #E2EBFA;\n",
              "      --hover-fill-color: #174EA6;\n",
              "      --disabled-fill-color: #AAA;\n",
              "      --disabled-bg-color: #DDD;\n",
              "  }\n",
              "\n",
              "  [theme=dark] .colab-df-quickchart {\n",
              "      --bg-color: #3B4455;\n",
              "      --fill-color: #D2E3FC;\n",
              "      --hover-bg-color: #434B5C;\n",
              "      --hover-fill-color: #FFFFFF;\n",
              "      --disabled-bg-color: #3B4455;\n",
              "      --disabled-fill-color: #666;\n",
              "  }\n",
              "\n",
              "  .colab-df-quickchart {\n",
              "    background-color: var(--bg-color);\n",
              "    border: none;\n",
              "    border-radius: 50%;\n",
              "    cursor: pointer;\n",
              "    display: none;\n",
              "    fill: var(--fill-color);\n",
              "    height: 32px;\n",
              "    padding: 0;\n",
              "    width: 32px;\n",
              "  }\n",
              "\n",
              "  .colab-df-quickchart:hover {\n",
              "    background-color: var(--hover-bg-color);\n",
              "    box-shadow: 0 1px 2px rgba(60, 64, 67, 0.3), 0 1px 3px 1px rgba(60, 64, 67, 0.15);\n",
              "    fill: var(--button-hover-fill-color);\n",
              "  }\n",
              "\n",
              "  .colab-df-quickchart-complete:disabled,\n",
              "  .colab-df-quickchart-complete:disabled:hover {\n",
              "    background-color: var(--disabled-bg-color);\n",
              "    fill: var(--disabled-fill-color);\n",
              "    box-shadow: none;\n",
              "  }\n",
              "\n",
              "  .colab-df-spinner {\n",
              "    border: 2px solid var(--fill-color);\n",
              "    border-color: transparent;\n",
              "    border-bottom-color: var(--fill-color);\n",
              "    animation:\n",
              "      spin 1s steps(1) infinite;\n",
              "  }\n",
              "\n",
              "  @keyframes spin {\n",
              "    0% {\n",
              "      border-color: transparent;\n",
              "      border-bottom-color: var(--fill-color);\n",
              "      border-left-color: var(--fill-color);\n",
              "    }\n",
              "    20% {\n",
              "      border-color: transparent;\n",
              "      border-left-color: var(--fill-color);\n",
              "      border-top-color: var(--fill-color);\n",
              "    }\n",
              "    30% {\n",
              "      border-color: transparent;\n",
              "      border-left-color: var(--fill-color);\n",
              "      border-top-color: var(--fill-color);\n",
              "      border-right-color: var(--fill-color);\n",
              "    }\n",
              "    40% {\n",
              "      border-color: transparent;\n",
              "      border-right-color: var(--fill-color);\n",
              "      border-top-color: var(--fill-color);\n",
              "    }\n",
              "    60% {\n",
              "      border-color: transparent;\n",
              "      border-right-color: var(--fill-color);\n",
              "    }\n",
              "    80% {\n",
              "      border-color: transparent;\n",
              "      border-right-color: var(--fill-color);\n",
              "      border-bottom-color: var(--fill-color);\n",
              "    }\n",
              "    90% {\n",
              "      border-color: transparent;\n",
              "      border-bottom-color: var(--fill-color);\n",
              "    }\n",
              "  }\n",
              "</style>\n",
              "\n",
              "  <script>\n",
              "    async function quickchart(key) {\n",
              "      const quickchartButtonEl =\n",
              "        document.querySelector('#' + key + ' button');\n",
              "      quickchartButtonEl.disabled = true;  // To prevent multiple clicks.\n",
              "      quickchartButtonEl.classList.add('colab-df-spinner');\n",
              "      try {\n",
              "        const charts = await google.colab.kernel.invokeFunction(\n",
              "            'suggestCharts', [key], {});\n",
              "      } catch (error) {\n",
              "        console.error('Error during call to suggestCharts:', error);\n",
              "      }\n",
              "      quickchartButtonEl.classList.remove('colab-df-spinner');\n",
              "      quickchartButtonEl.classList.add('colab-df-quickchart-complete');\n",
              "    }\n",
              "    (() => {\n",
              "      let quickchartButtonEl =\n",
              "        document.querySelector('#df-4c58ad81-f7b6-4beb-8d18-5fd426c936c8 button');\n",
              "      quickchartButtonEl.style.display =\n",
              "        google.colab.kernel.accessAllowed ? 'block' : 'none';\n",
              "    })();\n",
              "  </script>\n",
              "</div>\n",
              "    </div>\n",
              "  </div>\n"
            ]
          },
          "metadata": {},
          "execution_count": 2
        }
      ]
    },
    {
      "cell_type": "code",
      "source": [
        "data.shape"
      ],
      "metadata": {
        "colab": {
          "base_uri": "https://localhost:8080/"
        },
        "id": "IrrPEOI8Na2V",
        "outputId": "d9d5a2b5-adb6-4cc8-95bf-e031508dfd04"
      },
      "execution_count": null,
      "outputs": [
        {
          "output_type": "execute_result",
          "data": {
            "text/plain": [
              "(2500, 13)"
            ]
          },
          "metadata": {},
          "execution_count": 3
        }
      ]
    },
    {
      "cell_type": "code",
      "source": [
        "data.head()"
      ],
      "metadata": {
        "colab": {
          "base_uri": "https://localhost:8080/",
          "height": 206
        },
        "id": "ayguEwurNa40",
        "outputId": "a9319b9c-c86a-450c-986d-06a9e6921485"
      },
      "execution_count": null,
      "outputs": [
        {
          "output_type": "execute_result",
          "data": {
            "text/plain": [
              "    Area  Perimeter  Major_Axis_Length  Minor_Axis_Length  Convex_Area  \\\n",
              "0  56276    888.242           326.1485           220.2388        56831   \n",
              "1  76631   1068.146           417.1932           234.2289        77280   \n",
              "2  71623   1082.987           435.8328           211.0457        72663   \n",
              "3  66458    992.051           381.5638           222.5322        67118   \n",
              "4  66107    998.146           383.8883           220.4545        67117   \n",
              "\n",
              "   Equiv_Diameter  Eccentricity  Solidity  Extent  Roundness  Aspect_Ration  \\\n",
              "0        267.6805        0.7376    0.9902  0.7453     0.8963         1.4809   \n",
              "1        312.3614        0.8275    0.9916  0.7151     0.8440         1.7811   \n",
              "2        301.9822        0.8749    0.9857  0.7400     0.7674         2.0651   \n",
              "3        290.8899        0.8123    0.9902  0.7396     0.8486         1.7146   \n",
              "4        290.1207        0.8187    0.9850  0.6752     0.8338         1.7413   \n",
              "\n",
              "   Compactness  Class  \n",
              "0       0.8207      0  \n",
              "1       0.7487      0  \n",
              "2       0.6929      0  \n",
              "3       0.7624      0  \n",
              "4       0.7557      0  "
            ],
            "text/html": [
              "\n",
              "  <div id=\"df-f1134886-b2f0-44f1-b7b8-a5bb3c11131c\" class=\"colab-df-container\">\n",
              "    <div>\n",
              "<style scoped>\n",
              "    .dataframe tbody tr th:only-of-type {\n",
              "        vertical-align: middle;\n",
              "    }\n",
              "\n",
              "    .dataframe tbody tr th {\n",
              "        vertical-align: top;\n",
              "    }\n",
              "\n",
              "    .dataframe thead th {\n",
              "        text-align: right;\n",
              "    }\n",
              "</style>\n",
              "<table border=\"1\" class=\"dataframe\">\n",
              "  <thead>\n",
              "    <tr style=\"text-align: right;\">\n",
              "      <th></th>\n",
              "      <th>Area</th>\n",
              "      <th>Perimeter</th>\n",
              "      <th>Major_Axis_Length</th>\n",
              "      <th>Minor_Axis_Length</th>\n",
              "      <th>Convex_Area</th>\n",
              "      <th>Equiv_Diameter</th>\n",
              "      <th>Eccentricity</th>\n",
              "      <th>Solidity</th>\n",
              "      <th>Extent</th>\n",
              "      <th>Roundness</th>\n",
              "      <th>Aspect_Ration</th>\n",
              "      <th>Compactness</th>\n",
              "      <th>Class</th>\n",
              "    </tr>\n",
              "  </thead>\n",
              "  <tbody>\n",
              "    <tr>\n",
              "      <th>0</th>\n",
              "      <td>56276</td>\n",
              "      <td>888.242</td>\n",
              "      <td>326.1485</td>\n",
              "      <td>220.2388</td>\n",
              "      <td>56831</td>\n",
              "      <td>267.6805</td>\n",
              "      <td>0.7376</td>\n",
              "      <td>0.9902</td>\n",
              "      <td>0.7453</td>\n",
              "      <td>0.8963</td>\n",
              "      <td>1.4809</td>\n",
              "      <td>0.8207</td>\n",
              "      <td>0</td>\n",
              "    </tr>\n",
              "    <tr>\n",
              "      <th>1</th>\n",
              "      <td>76631</td>\n",
              "      <td>1068.146</td>\n",
              "      <td>417.1932</td>\n",
              "      <td>234.2289</td>\n",
              "      <td>77280</td>\n",
              "      <td>312.3614</td>\n",
              "      <td>0.8275</td>\n",
              "      <td>0.9916</td>\n",
              "      <td>0.7151</td>\n",
              "      <td>0.8440</td>\n",
              "      <td>1.7811</td>\n",
              "      <td>0.7487</td>\n",
              "      <td>0</td>\n",
              "    </tr>\n",
              "    <tr>\n",
              "      <th>2</th>\n",
              "      <td>71623</td>\n",
              "      <td>1082.987</td>\n",
              "      <td>435.8328</td>\n",
              "      <td>211.0457</td>\n",
              "      <td>72663</td>\n",
              "      <td>301.9822</td>\n",
              "      <td>0.8749</td>\n",
              "      <td>0.9857</td>\n",
              "      <td>0.7400</td>\n",
              "      <td>0.7674</td>\n",
              "      <td>2.0651</td>\n",
              "      <td>0.6929</td>\n",
              "      <td>0</td>\n",
              "    </tr>\n",
              "    <tr>\n",
              "      <th>3</th>\n",
              "      <td>66458</td>\n",
              "      <td>992.051</td>\n",
              "      <td>381.5638</td>\n",
              "      <td>222.5322</td>\n",
              "      <td>67118</td>\n",
              "      <td>290.8899</td>\n",
              "      <td>0.8123</td>\n",
              "      <td>0.9902</td>\n",
              "      <td>0.7396</td>\n",
              "      <td>0.8486</td>\n",
              "      <td>1.7146</td>\n",
              "      <td>0.7624</td>\n",
              "      <td>0</td>\n",
              "    </tr>\n",
              "    <tr>\n",
              "      <th>4</th>\n",
              "      <td>66107</td>\n",
              "      <td>998.146</td>\n",
              "      <td>383.8883</td>\n",
              "      <td>220.4545</td>\n",
              "      <td>67117</td>\n",
              "      <td>290.1207</td>\n",
              "      <td>0.8187</td>\n",
              "      <td>0.9850</td>\n",
              "      <td>0.6752</td>\n",
              "      <td>0.8338</td>\n",
              "      <td>1.7413</td>\n",
              "      <td>0.7557</td>\n",
              "      <td>0</td>\n",
              "    </tr>\n",
              "  </tbody>\n",
              "</table>\n",
              "</div>\n",
              "    <div class=\"colab-df-buttons\">\n",
              "\n",
              "  <div class=\"colab-df-container\">\n",
              "    <button class=\"colab-df-convert\" onclick=\"convertToInteractive('df-f1134886-b2f0-44f1-b7b8-a5bb3c11131c')\"\n",
              "            title=\"Convert this dataframe to an interactive table.\"\n",
              "            style=\"display:none;\">\n",
              "\n",
              "  <svg xmlns=\"http://www.w3.org/2000/svg\" height=\"24px\" viewBox=\"0 -960 960 960\">\n",
              "    <path d=\"M120-120v-720h720v720H120Zm60-500h600v-160H180v160Zm220 220h160v-160H400v160Zm0 220h160v-160H400v160ZM180-400h160v-160H180v160Zm440 0h160v-160H620v160ZM180-180h160v-160H180v160Zm440 0h160v-160H620v160Z\"/>\n",
              "  </svg>\n",
              "    </button>\n",
              "\n",
              "  <style>\n",
              "    .colab-df-container {\n",
              "      display:flex;\n",
              "      gap: 12px;\n",
              "    }\n",
              "\n",
              "    .colab-df-convert {\n",
              "      background-color: #E8F0FE;\n",
              "      border: none;\n",
              "      border-radius: 50%;\n",
              "      cursor: pointer;\n",
              "      display: none;\n",
              "      fill: #1967D2;\n",
              "      height: 32px;\n",
              "      padding: 0 0 0 0;\n",
              "      width: 32px;\n",
              "    }\n",
              "\n",
              "    .colab-df-convert:hover {\n",
              "      background-color: #E2EBFA;\n",
              "      box-shadow: 0px 1px 2px rgba(60, 64, 67, 0.3), 0px 1px 3px 1px rgba(60, 64, 67, 0.15);\n",
              "      fill: #174EA6;\n",
              "    }\n",
              "\n",
              "    .colab-df-buttons div {\n",
              "      margin-bottom: 4px;\n",
              "    }\n",
              "\n",
              "    [theme=dark] .colab-df-convert {\n",
              "      background-color: #3B4455;\n",
              "      fill: #D2E3FC;\n",
              "    }\n",
              "\n",
              "    [theme=dark] .colab-df-convert:hover {\n",
              "      background-color: #434B5C;\n",
              "      box-shadow: 0px 1px 3px 1px rgba(0, 0, 0, 0.15);\n",
              "      filter: drop-shadow(0px 1px 2px rgba(0, 0, 0, 0.3));\n",
              "      fill: #FFFFFF;\n",
              "    }\n",
              "  </style>\n",
              "\n",
              "    <script>\n",
              "      const buttonEl =\n",
              "        document.querySelector('#df-f1134886-b2f0-44f1-b7b8-a5bb3c11131c button.colab-df-convert');\n",
              "      buttonEl.style.display =\n",
              "        google.colab.kernel.accessAllowed ? 'block' : 'none';\n",
              "\n",
              "      async function convertToInteractive(key) {\n",
              "        const element = document.querySelector('#df-f1134886-b2f0-44f1-b7b8-a5bb3c11131c');\n",
              "        const dataTable =\n",
              "          await google.colab.kernel.invokeFunction('convertToInteractive',\n",
              "                                                    [key], {});\n",
              "        if (!dataTable) return;\n",
              "\n",
              "        const docLinkHtml = 'Like what you see? Visit the ' +\n",
              "          '<a target=\"_blank\" href=https://colab.research.google.com/notebooks/data_table.ipynb>data table notebook</a>'\n",
              "          + ' to learn more about interactive tables.';\n",
              "        element.innerHTML = '';\n",
              "        dataTable['output_type'] = 'display_data';\n",
              "        await google.colab.output.renderOutput(dataTable, element);\n",
              "        const docLink = document.createElement('div');\n",
              "        docLink.innerHTML = docLinkHtml;\n",
              "        element.appendChild(docLink);\n",
              "      }\n",
              "    </script>\n",
              "  </div>\n",
              "\n",
              "\n",
              "<div id=\"df-ca818f53-aade-4d48-b3c5-f36875ca99cb\">\n",
              "  <button class=\"colab-df-quickchart\" onclick=\"quickchart('df-ca818f53-aade-4d48-b3c5-f36875ca99cb')\"\n",
              "            title=\"Suggest charts.\"\n",
              "            style=\"display:none;\">\n",
              "\n",
              "<svg xmlns=\"http://www.w3.org/2000/svg\" height=\"24px\"viewBox=\"0 0 24 24\"\n",
              "     width=\"24px\">\n",
              "    <g>\n",
              "        <path d=\"M19 3H5c-1.1 0-2 .9-2 2v14c0 1.1.9 2 2 2h14c1.1 0 2-.9 2-2V5c0-1.1-.9-2-2-2zM9 17H7v-7h2v7zm4 0h-2V7h2v10zm4 0h-2v-4h2v4z\"/>\n",
              "    </g>\n",
              "</svg>\n",
              "  </button>\n",
              "\n",
              "<style>\n",
              "  .colab-df-quickchart {\n",
              "      --bg-color: #E8F0FE;\n",
              "      --fill-color: #1967D2;\n",
              "      --hover-bg-color: #E2EBFA;\n",
              "      --hover-fill-color: #174EA6;\n",
              "      --disabled-fill-color: #AAA;\n",
              "      --disabled-bg-color: #DDD;\n",
              "  }\n",
              "\n",
              "  [theme=dark] .colab-df-quickchart {\n",
              "      --bg-color: #3B4455;\n",
              "      --fill-color: #D2E3FC;\n",
              "      --hover-bg-color: #434B5C;\n",
              "      --hover-fill-color: #FFFFFF;\n",
              "      --disabled-bg-color: #3B4455;\n",
              "      --disabled-fill-color: #666;\n",
              "  }\n",
              "\n",
              "  .colab-df-quickchart {\n",
              "    background-color: var(--bg-color);\n",
              "    border: none;\n",
              "    border-radius: 50%;\n",
              "    cursor: pointer;\n",
              "    display: none;\n",
              "    fill: var(--fill-color);\n",
              "    height: 32px;\n",
              "    padding: 0;\n",
              "    width: 32px;\n",
              "  }\n",
              "\n",
              "  .colab-df-quickchart:hover {\n",
              "    background-color: var(--hover-bg-color);\n",
              "    box-shadow: 0 1px 2px rgba(60, 64, 67, 0.3), 0 1px 3px 1px rgba(60, 64, 67, 0.15);\n",
              "    fill: var(--button-hover-fill-color);\n",
              "  }\n",
              "\n",
              "  .colab-df-quickchart-complete:disabled,\n",
              "  .colab-df-quickchart-complete:disabled:hover {\n",
              "    background-color: var(--disabled-bg-color);\n",
              "    fill: var(--disabled-fill-color);\n",
              "    box-shadow: none;\n",
              "  }\n",
              "\n",
              "  .colab-df-spinner {\n",
              "    border: 2px solid var(--fill-color);\n",
              "    border-color: transparent;\n",
              "    border-bottom-color: var(--fill-color);\n",
              "    animation:\n",
              "      spin 1s steps(1) infinite;\n",
              "  }\n",
              "\n",
              "  @keyframes spin {\n",
              "    0% {\n",
              "      border-color: transparent;\n",
              "      border-bottom-color: var(--fill-color);\n",
              "      border-left-color: var(--fill-color);\n",
              "    }\n",
              "    20% {\n",
              "      border-color: transparent;\n",
              "      border-left-color: var(--fill-color);\n",
              "      border-top-color: var(--fill-color);\n",
              "    }\n",
              "    30% {\n",
              "      border-color: transparent;\n",
              "      border-left-color: var(--fill-color);\n",
              "      border-top-color: var(--fill-color);\n",
              "      border-right-color: var(--fill-color);\n",
              "    }\n",
              "    40% {\n",
              "      border-color: transparent;\n",
              "      border-right-color: var(--fill-color);\n",
              "      border-top-color: var(--fill-color);\n",
              "    }\n",
              "    60% {\n",
              "      border-color: transparent;\n",
              "      border-right-color: var(--fill-color);\n",
              "    }\n",
              "    80% {\n",
              "      border-color: transparent;\n",
              "      border-right-color: var(--fill-color);\n",
              "      border-bottom-color: var(--fill-color);\n",
              "    }\n",
              "    90% {\n",
              "      border-color: transparent;\n",
              "      border-bottom-color: var(--fill-color);\n",
              "    }\n",
              "  }\n",
              "</style>\n",
              "\n",
              "  <script>\n",
              "    async function quickchart(key) {\n",
              "      const quickchartButtonEl =\n",
              "        document.querySelector('#' + key + ' button');\n",
              "      quickchartButtonEl.disabled = true;  // To prevent multiple clicks.\n",
              "      quickchartButtonEl.classList.add('colab-df-spinner');\n",
              "      try {\n",
              "        const charts = await google.colab.kernel.invokeFunction(\n",
              "            'suggestCharts', [key], {});\n",
              "      } catch (error) {\n",
              "        console.error('Error during call to suggestCharts:', error);\n",
              "      }\n",
              "      quickchartButtonEl.classList.remove('colab-df-spinner');\n",
              "      quickchartButtonEl.classList.add('colab-df-quickchart-complete');\n",
              "    }\n",
              "    (() => {\n",
              "      let quickchartButtonEl =\n",
              "        document.querySelector('#df-ca818f53-aade-4d48-b3c5-f36875ca99cb button');\n",
              "      quickchartButtonEl.style.display =\n",
              "        google.colab.kernel.accessAllowed ? 'block' : 'none';\n",
              "    })();\n",
              "  </script>\n",
              "</div>\n",
              "    </div>\n",
              "  </div>\n"
            ]
          },
          "metadata": {},
          "execution_count": 4
        }
      ]
    },
    {
      "cell_type": "markdown",
      "source": [
        "#**Finding the null Values**"
      ],
      "metadata": {
        "id": "BOFf2Qb8sTQ0"
      }
    },
    {
      "cell_type": "code",
      "source": [
        "data.isnull().sum()"
      ],
      "metadata": {
        "id": "9_SQBO8qNqx6",
        "outputId": "0efc1a33-479f-4008-b508-958a6a1bc48a",
        "colab": {
          "base_uri": "https://localhost:8080/"
        }
      },
      "execution_count": null,
      "outputs": [
        {
          "output_type": "execute_result",
          "data": {
            "text/plain": [
              "Area                 0\n",
              "Perimeter            0\n",
              "Major_Axis_Length    0\n",
              "Minor_Axis_Length    0\n",
              "Convex_Area          0\n",
              "Equiv_Diameter       0\n",
              "Eccentricity         0\n",
              "Solidity             0\n",
              "Extent               0\n",
              "Roundness            0\n",
              "Aspect_Ration        0\n",
              "Compactness          0\n",
              "Class                0\n",
              "dtype: int64"
            ]
          },
          "metadata": {},
          "execution_count": 5
        }
      ]
    },
    {
      "cell_type": "markdown",
      "source": [
        "#**Finding Out the Outliers in the Data**"
      ],
      "metadata": {
        "id": "mYNfFkWhr3fQ"
      }
    },
    {
      "cell_type": "code",
      "source": [
        "plt.figure(figsize=(20,8))\n",
        "plt.suptitle(\"Pumpkin Seeds Database\")\n",
        "ax = plt.gca()\n",
        "data.boxplot()"
      ],
      "metadata": {
        "colab": {
          "base_uri": "https://localhost:8080/",
          "height": 675
        },
        "id": "4MwtUJHurIYa",
        "outputId": "bcfcc4a7-047f-47ee-9530-1cbd65ec5481"
      },
      "execution_count": null,
      "outputs": [
        {
          "output_type": "execute_result",
          "data": {
            "text/plain": [
              "<Axes: >"
            ]
          },
          "metadata": {},
          "execution_count": 6
        },
        {
          "output_type": "display_data",
          "data": {
            "text/plain": [
              "<Figure size 2000x800 with 1 Axes>"
            ],
            "image/png": "[encoded data removed]"
          },
          "metadata": {}
        }
      ]
    },
    {
      "cell_type": "code",
      "source": [
        "columns_to_process = ['Area','Convex_Area']\n",
        "\n",
        "# Step 2 & 3: Calculate the IQR and Define the outlier boundaries for each column\n",
        "outlier_indices = []\n",
        "for column_name in columns_to_process:\n",
        "    Q1 = data[column_name].quantile(0.25)\n",
        "    Q3 = data[column_name].quantile(0.75)\n",
        "    IQR = Q3 - Q1\n",
        "\n",
        "    lower_bound = Q1 - 1.5 * IQR\n",
        "    upper_bound = Q3 + 1.5 * IQR\n",
        "\n",
        "    outliers = data[(data[column_name] < lower_bound) | (data[column_name] > upper_bound)]\n",
        "\n",
        "    outlier_indices.extend(outliers.index)\n",
        "cleaned_data= data.drop(outlier_indices)"
      ],
      "metadata": {
        "id": "WkpBaLfJrIiT"
      },
      "execution_count": null,
      "outputs": []
    },
    {
      "cell_type": "code",
      "source": [
        "plt.figure(figsize=(20,8))\n",
        "plt.suptitle(\"Pumpkin Seeds Database\")\n",
        "ax = plt.gca()\n",
        "cleaned_data.boxplot()"
      ],
      "metadata": {
        "colab": {
          "base_uri": "https://localhost:8080/",
          "height": 675
        },
        "id": "s1yTuv_QqszC",
        "outputId": "5c4e652a-1b97-40ca-a71a-6ed92e909f2d"
      },
      "execution_count": null,
      "outputs": [
        {
          "output_type": "execute_result",
          "data": {
            "text/plain": [
              "<Axes: >"
            ]
          },
          "metadata": {},
          "execution_count": 8
        },
        {
          "output_type": "display_data",
          "data": {
            "text/plain": [
              "<Figure size 2000x800 with 1 Axes>"
            ],
            "image/png": "[encoded data removed]"
          },
          "metadata": {}
        }
      ]
    },
    {
      "cell_type": "markdown",
      "source": [],
      "metadata": {
        "id": "Lgh4NZtNseg2"
      }
    },
    {
      "cell_type": "code",
      "source": [
        "cleaned_data.shape\n"
      ],
      "metadata": {
        "id": "VXOiuwA3Nq4i",
        "colab": {
          "base_uri": "https://localhost:8080/"
        },
        "outputId": "13829fe3-8c9a-474e-ffbf-8cbc2ec3468d"
      },
      "execution_count": null,
      "outputs": [
        {
          "output_type": "execute_result",
          "data": {
            "text/plain": [
              "(2482, 13)"
            ]
          },
          "metadata": {},
          "execution_count": 9
        }
      ]
    },
    {
      "cell_type": "markdown",
      "source": [
        "#**Training the Model**"
      ],
      "metadata": {
        "id": "X3-D_gd3sk5X"
      }
    },
    {
      "cell_type": "code",
      "source": [
        "from sklearn.model_selection import train_test_split\n",
        "X1 = cleaned_data.iloc[:, :-1]\n",
        "y1 = cleaned_data.iloc[:, -1]\n",
        "X1_train, X1_test, y1_train, y1_test = train_test_split(X1, y1, test_size=0.2, random_state=42)"
      ],
      "metadata": {
        "id": "O5GFLoKMNrCq"
      },
      "execution_count": null,
      "outputs": []
    },
    {
      "cell_type": "markdown",
      "source": [
        "#**Scaling the data**"
      ],
      "metadata": {
        "id": "RJ5boBTdsrFk"
      }
    },
    {
      "cell_type": "code",
      "source": [
        "from sklearn.preprocessing import StandardScaler\n",
        "st_x= StandardScaler()\n",
        "X1_train= st_x.fit_transform(X1_train)\n",
        "X1_test= st_x.transform(X1_test)"
      ],
      "metadata": {
        "id": "zfvhWV6uakj3"
      },
      "execution_count": null,
      "outputs": []
    },
    {
      "cell_type": "markdown",
      "source": [
        "#**Choosing and training the model**"
      ],
      "metadata": {
        "id": "hGe8AKtwsyhX"
      }
    },
    {
      "cell_type": "code",
      "source": [
        "from sklearn.linear_model import LogisticRegression\n",
        "lr=LogisticRegression(solver='lbfgs', max_iter=1000)\n",
        "lr.fit(X1_train, y1_train)\n"
      ],
      "metadata": {
        "id": "1g6tYSjaNrFK",
        "outputId": "139a1559-7933-48ca-ae3f-6c7603caf9b8",
        "colab": {
          "base_uri": "https://localhost:8080/",
          "height": 74
        }
      },
      "execution_count": null,
      "outputs": [
        {
          "output_type": "execute_result",
          "data": {
            "text/plain": [
              "LogisticRegression(max_iter=1000)"
            ],
            "text/html": [
              "<style>#sk-container-id-1 {color: black;background-color: white;}#sk-container-id-1 pre{padding: 0;}#sk-container-id-1 div.sk-toggleable {background-color: white;}#sk-container-id-1 label.sk-toggleable__label {cursor: pointer;display: block;width: 100%;margin-bottom: 0;padding: 0.3em;box-sizing: border-box;text-align: center;}#sk-container-id-1 label.sk-toggleable__label-arrow:before {content: \"▸\";float: left;margin-right: 0.25em;color: #696969;}#sk-container-id-1 label.sk-toggleable__label-arrow:hover:before {color: black;}#sk-container-id-1 div.sk-estimator:hover label.sk-toggleable__label-arrow:before {color: black;}#sk-container-id-1 div.sk-toggleable__content {max-height: 0;max-width: 0;overflow: hidden;text-align: left;background-color: #f0f8ff;}#sk-container-id-1 div.sk-toggleable__content pre {margin: 0.2em;color: black;border-radius: 0.25em;background-color: #f0f8ff;}#sk-container-id-1 input.sk-toggleable__control:checked~div.sk-toggleable__content {max-height: 200px;max-width: 100%;overflow: auto;}#sk-container-id-1 input.sk-toggleable__control:checked~label.sk-toggleable__label-arrow:before {content: \"▾\";}#sk-container-id-1 div.sk-estimator input.sk-toggleable__control:checked~label.sk-toggleable__label {background-color: #d4ebff;}#sk-container-id-1 div.sk-label input.sk-toggleable__control:checked~label.sk-toggleable__label {background-color: #d4ebff;}#sk-container-id-1 input.sk-hidden--visually {border: 0;clip: rect(1px 1px 1px 1px);clip: rect(1px, 1px, 1px, 1px);height: 1px;margin: -1px;overflow: hidden;padding: 0;position: absolute;width: 1px;}#sk-container-id-1 div.sk-estimator {font-family: monospace;background-color: #f0f8ff;border: 1px dotted black;border-radius: 0.25em;box-sizing: border-box;margin-bottom: 0.5em;}#sk-container-id-1 div.sk-estimator:hover {background-color: #d4ebff;}#sk-container-id-1 div.sk-parallel-item::after {content: \"\";width: 100%;border-bottom: 1px solid gray;flex-grow: 1;}#sk-container-id-1 div.sk-label:hover label.sk-toggleable__label {background-color: #d4ebff;}#sk-container-id-1 div.sk-serial::before {content: \"\";position: absolute;border-left: 1px solid gray;box-sizing: border-box;top: 0;bottom: 0;left: 50%;z-index: 0;}#sk-container-id-1 div.sk-serial {display: flex;flex-direction: column;align-items: center;background-color: white;padding-right: 0.2em;padding-left: 0.2em;position: relative;}#sk-container-id-1 div.sk-item {position: relative;z-index: 1;}#sk-container-id-1 div.sk-parallel {display: flex;align-items: stretch;justify-content: center;background-color: white;position: relative;}#sk-container-id-1 div.sk-item::before, #sk-container-id-1 div.sk-parallel-item::before {content: \"\";position: absolute;border-left: 1px solid gray;box-sizing: border-box;top: 0;bottom: 0;left: 50%;z-index: -1;}#sk-container-id-1 div.sk-parallel-item {display: flex;flex-direction: column;z-index: 1;position: relative;background-color: white;}#sk-container-id-1 div.sk-parallel-item:first-child::after {align-self: flex-end;width: 50%;}#sk-container-id-1 div.sk-parallel-item:last-child::after {align-self: flex-start;width: 50%;}#sk-container-id-1 div.sk-parallel-item:only-child::after {width: 0;}#sk-container-id-1 div.sk-dashed-wrapped {border: 1px dashed gray;margin: 0 0.4em 0.5em 0.4em;box-sizing: border-box;padding-bottom: 0.4em;background-color: white;}#sk-container-id-1 div.sk-label label {font-family: monospace;font-weight: bold;display: inline-block;line-height: 1.2em;}#sk-container-id-1 div.sk-label-container {text-align: center;}#sk-container-id-1 div.sk-container {/* jupyter's `normalize.less` sets `[hidden] { display: none; }` but bootstrap.min.css set `[hidden] { display: none !important; }` so we also need the `!important` here to be able to override the default hidden behavior on the sphinx rendered scikit-learn.org. See: https://github.com/scikit-learn/scikit-learn/issues/21755 */display: inline-block !important;position: relative;}#sk-container-id-1 div.sk-text-repr-fallback {display: none;}</style><div id=\"sk-container-id-1\" class=\"sk-top-container\"><div class=\"sk-text-repr-fallback\"><pre>LogisticRegression(max_iter=1000)</pre><b>In a Jupyter environment, please rerun this cell to show the HTML representation or trust the notebook. <br />On GitHub, the HTML representation is unable to render, please try loading this page with nbviewer.org.</b></div><div class=\"sk-container\" hidden><div class=\"sk-item\"><div class=\"sk-estimator sk-toggleable\"><input class=\"sk-toggleable__control sk-hidden--visually\" id=\"sk-estimator-id-1\" type=\"checkbox\" checked><label for=\"sk-estimator-id-1\" class=\"sk-toggleable__label sk-toggleable__label-arrow\">LogisticRegression</label><div class=\"sk-toggleable__content\"><pre>LogisticRegression(max_iter=1000)</pre></div></div></div></div></div>"
            ]
          },
          "metadata": {},
          "execution_count": 12
        }
      ]
    },
    {
      "cell_type": "markdown",
      "source": [
        "#**Predicting the test results**"
      ],
      "metadata": {
        "id": "yRpLYp3jtlyR"
      }
    },
    {
      "cell_type": "code",
      "source": [
        "#predicting test results\n",
        "Y_Pred_test = lr.predict(X1_test)\n",
        "Y_Pred_train = lr.predict(X1_train)\n",
        "y_pred1=lr.predict_proba(X1_test)\n",
        "y_pred_train = lr.predict(X1_train)"
      ],
      "metadata": {
        "id": "QhHDR-y-NrIK"
      },
      "execution_count": null,
      "outputs": []
    },
    {
      "cell_type": "markdown",
      "source": [
        "#**Performance Measures**"
      ],
      "metadata": {
        "id": "ROLIiNBgtskP"
      }
    },
    {
      "cell_type": "code",
      "source": [
        "from sklearn.metrics import accuracy_score,confusion_matrix,precision_score,recall_score,f1_score,classification_report,roc_auc_score\n",
        "from sklearn.model_selection import cross_val_score\n",
        "accuracy=accuracy_score(y1_train,y_pred_train)\n",
        "print(\"training_Accuracy_score: \",accuracy)\n",
        "accuracy=accuracy_score(y1_test,Y_Pred_test)\n",
        "print(\"testing_Accuracy_score: \",accuracy)\n",
        "roc_auc = roc_auc_score(y1_test, Y_Pred_test)\n",
        "print(\"ROC AUC Score:\", roc_auc)\n",
        "scores = cross_val_score(lr, X1, y1, scoring=\"accuracy\", cv=10)\n",
        "print(\"Cross-validation scores:\", scores.mean())\n",
        "recall=recall_score(y1_test,Y_Pred_test)\n",
        "print(\"Recall_score: \",recall)\n",
        "precision=precision_score(y1_test,Y_Pred_test)\n",
        "print(\"Precision_score: \",precision)\n",
        "cr =  classification_report(y1_test,Y_Pred_test)\n",
        "print(cr)"
      ],
      "metadata": {
        "id": "3IhnBiqjNrKy",
        "outputId": "6f3bae6a-7a07-48b7-d364-0d3aa8fa6a75",
        "colab": {
          "base_uri": "https://localhost:8080/"
        }
      },
      "execution_count": null,
      "outputs": [
        {
          "output_type": "stream",
          "name": "stdout",
          "text": [
            "training_Accuracy_score:  0.8806045340050378\n",
            "testing_Accuracy_score:  0.8812877263581489\n",
            "ROC AUC Score: 0.8813236818240705\n",
            "Cross-validation scores: 0.8746874595154812\n",
            "Recall_score:  0.8634538152610441\n",
            "Precision_score:  0.8958333333333334\n",
            "              precision    recall  f1-score   support\n",
            "\n",
            "           0       0.87      0.90      0.88       248\n",
            "           1       0.90      0.86      0.88       249\n",
            "\n",
            "    accuracy                           0.88       497\n",
            "   macro avg       0.88      0.88      0.88       497\n",
            "weighted avg       0.88      0.88      0.88       497\n",
            "\n"
          ]
        }
      ]
    },
    {
      "cell_type": "code",
      "source": [
        "matrix=confusion_matrix(y1_test,Y_Pred_test)\n",
        "print(\"Confusion_matrix: \\n\",matrix)"
      ],
      "metadata": {
        "colab": {
          "base_uri": "https://localhost:8080/"
        },
        "id": "YMqqoO21m7Eg",
        "outputId": "ad82fa42-524f-4027-d81b-84f4d464053a"
      },
      "execution_count": null,
      "outputs": [
        {
          "output_type": "stream",
          "name": "stdout",
          "text": [
            "Confusion_matrix: \n",
            " [[223  25]\n",
            " [ 34 215]]\n"
          ]
        }
      ]
    },
    {
      "cell_type": "markdown",
      "source": [
        "#**Hyperparameter Tunning**"
      ],
      "metadata": {
        "id": "8GJ835mvhX8T"
      }
    },
    {
      "cell_type": "code",
      "source": [
        "from sklearn.model_selection import GridSearchCV\n",
        "from sklearn import metrics\n",
        "from sklearn.metrics import confusion_matrix\n",
        "\n",
        "# Specify parameters\n",
        "\n",
        "c_values = list(np.arange(1, 10))\n",
        "\n",
        "param_grid = [\n",
        "    {'C': c_values, 'penalty': ['l1'], 'solver' : ['liblinear'], 'multi_class' : ['ovr']},\n",
        "    {'C': c_values, 'penalty': ['l2'], 'solver' : ['liblinear', 'newton-cg', 'lbfgs'], 'multi_class' : ['ovr']}\n",
        "]\n",
        "grid = GridSearchCV(lr, param_grid, cv=10, scoring='accuracy')\n",
        "grid.fit(X1_train,y1_train)\n",
        "print(grid.best_params_)\n",
        "print(grid.best_score_)\n",
        "print(grid.best_estimator_)\n",
        "predictionforest = grid.best_estimator_.predict(X1_test)\n",
        "y_pred2=grid.best_estimator_.predict_proba(X1_test)\n",
        "y_pred2_train = grid.best_estimator_.predict(X1_train)\n",
        "\n",
        "print(confusion_matrix(y1_test,predictionforest))\n",
        "#print (\"{0}\".format(metrics.confusion_matrix(y_test, y_pred, labels=[1, 0])))\n",
        "print (\"Classification Report\")\n",
        "\n",
        "# labels for set 1=True to upper left and 0 = False to lower right\n",
        "print (\"{0}\".format(metrics.classification_report(y1_test, predictionforest, labels=[1, 0])))\n",
        "training_accuracy=accuracy_score(y1_train,y_pred2_train)\n",
        "print(\"training_accuracy: \",training_accuracy )\n",
        "acc_hyper = accuracy_score(y1_test,predictionforest)\n",
        "print (\"testing_Accuracy:\" ,acc_hyper)\n",
        "print(\"roc_auc_score after hypertuning: {}\".format(roc_auc_score(y1_test, y_pred2[:,1])))\n",
        "print(\"CV_score: {}\".format(cross_val_score(lr, X1, y1, cv=10, scoring='accuracy').mean()))"
      ],
      "metadata": {
        "colab": {
          "base_uri": "https://localhost:8080/"
        },
        "id": "UHrJpjEElbwl",
        "outputId": "75a54b4e-9d03-45d3-ab0b-2c66b01402f2"
      },
      "execution_count": null,
      "outputs": [
        {
          "output_type": "stream",
          "name": "stdout",
          "text": [
            "{'C': 5, 'multi_class': 'ovr', 'penalty': 'l1', 'solver': 'liblinear'}\n",
            "0.8841302471955738\n",
            "LogisticRegression(C=5, max_iter=1000, multi_class='ovr', penalty='l1',\n",
            "                   solver='liblinear')\n",
            "[[224  24]\n",
            " [ 33 216]]\n",
            "Classification Report\n",
            "              precision    recall  f1-score   support\n",
            "\n",
            "           1       0.90      0.87      0.88       249\n",
            "           0       0.87      0.90      0.89       248\n",
            "\n",
            "    accuracy                           0.89       497\n",
            "   macro avg       0.89      0.89      0.89       497\n",
            "weighted avg       0.89      0.89      0.89       497\n",
            "\n",
            "training_accuracy:  0.8836272040302267\n",
            "testing_Accuracy: 0.8853118712273642\n",
            "roc_auc_score after hypertuning: 0.9510623137712139\n",
            "CV_score: 0.8746874595154812\n"
          ]
        }
      ]
    },
    {
      "cell_type": "markdown",
      "source": [
        "\n",
        "\n",
        "#**After performing hyperparameter tuning, all performance measures show improvement compared to using only logistic regression**\n",
        "\n",
        "\n"
      ],
      "metadata": {
        "id": "XnOaGrg4Eb8r"
      }
    }
  ]
}